{
 "cells": [
  {
   "cell_type": "markdown",
   "metadata": {},
   "source": [
    "## Checking the time taken by numpy library and loops"
   ]
  },
  {
   "cell_type": "markdown",
   "metadata": {},
   "source": [
    "#### Initializing matrices and importing modules\n",
    "- importing time and numpy module for time calculation and matrix operations respectively."
   ]
  },
  {
   "cell_type": "code",
   "execution_count": 5,
   "metadata": {},
   "outputs": [],
   "source": [
    "import time as T\n",
    "import numpy as np\n",
    "raw_1=np.random.randint(10, size=(10,10))\n",
    "raw_2=np.random.randint(10, size=(10,10))\n",
    "array_1=np.array(raw_1)\n",
    "array_2=np.array(raw_2)\n",
    "add=np.zeros((10,10))"
   ]
  },
  {
   "cell_type": "markdown",
   "metadata": {},
   "source": [
    "#### addition\n",
    "- In addition we simply applied element by element loop in our looping process "
   ]
  },
  {
   "cell_type": "code",
   "execution_count": 6,
   "metadata": {},
   "outputs": [
    {
     "name": "stdout",
     "output_type": "stream",
     "text": [
      "[[12. 17.  8. 12.  9.  4.  8.  8.  1. 13.]\n",
      " [ 4.  5. 10.  6.  9.  9.  6.  8.  4. 13.]\n",
      " [12.  6.  7.  8.  6. 17.  7. 10. 12. 17.]\n",
      " [16. 10. 15. 11. 14. 10.  6.  2. 13. 11.]\n",
      " [11.  2. 15.  4. 10.  6.  9. 10.  6. 11.]\n",
      " [ 6.  3.  9. 12.  9. 15. 14. 13.  4.  7.]\n",
      " [10. 12. 16. 13. 15.  6.  2. 14.  9.  5.]\n",
      " [10.  9.  6.  9.  8.  4. 10. 18. 10.  8.]\n",
      " [10.  9.  5. 13.  9. 10. 12. 11. 12.  8.]\n",
      " [ 9. 10.  7. 11.  4.  9.  9.  6. 13. 12.]]\n",
      "[[12 17  8 12  9  4  8  8  1 13]\n",
      " [ 4  5 10  6  9  9  6  8  4 13]\n",
      " [12  6  7  8  6 17  7 10 12 17]\n",
      " [16 10 15 11 14 10  6  2 13 11]\n",
      " [11  2 15  4 10  6  9 10  6 11]\n",
      " [ 6  3  9 12  9 15 14 13  4  7]\n",
      " [10 12 16 13 15  6  2 14  9  5]\n",
      " [10  9  6  9  8  4 10 18 10  8]\n",
      " [10  9  5 13  9 10 12 11 12  8]\n",
      " [ 9 10  7 11  4  9  9  6 13 12]]\n"
     ]
    }
   ],
   "source": [
    "#using loops\n",
    "start1=T.time()\n",
    "for i in range(len(raw_1)):\n",
    "   for j in range(len(raw_1)):\n",
    "       add[i][j] = raw_1[i][j] + raw_2[i][j]\n",
    "\n",
    "end1=T.time()\n",
    "print(add)\n",
    "#using numpy\n",
    "start2=T.time()\n",
    "nadd=np.add(raw_1,raw_2)\n",
    "end2=T.time()\n",
    "print(nadd)"
   ]
  },
  {
   "cell_type": "markdown",
   "metadata": {},
   "source": [
    "#### multiplication\n",
    "- In looping process here we applied row wise an coloumn wise loops."
   ]
  },
  {
   "cell_type": "code",
   "execution_count": 7,
   "metadata": {},
   "outputs": [
    {
     "name": "stdout",
     "output_type": "stream",
     "text": [
      "[[306. 268. 351. 199. 276. 176. 135. 266. 259. 309.]\n",
      " [208. 121. 216. 152. 195. 186. 143. 200. 149. 154.]\n",
      " [244. 166. 240. 193. 223. 228. 169. 248. 191. 204.]\n",
      " [339. 209. 377. 224. 318. 246. 220. 303. 264. 269.]\n",
      " [261. 154. 204. 149. 170. 197. 123. 215. 192. 235.]\n",
      " [273. 169. 242. 169. 221. 210. 145. 249. 222. 209.]\n",
      " [313. 151. 256. 153. 198. 202. 141. 221. 228. 268.]\n",
      " [301. 235. 223. 150. 188. 185. 156. 263. 245. 210.]\n",
      " [254. 187. 229. 164. 183. 187. 158. 192. 198. 190.]\n",
      " [258. 264. 269. 209. 250. 204. 158. 297. 233. 230.]]\n",
      "[[306 268 351 199 276 176 135 266 259 309]\n",
      " [208 121 216 152 195 186 143 200 149 154]\n",
      " [244 166 240 193 223 228 169 248 191 204]\n",
      " [339 209 377 224 318 246 220 303 264 269]\n",
      " [261 154 204 149 170 197 123 215 192 235]\n",
      " [273 169 242 169 221 210 145 249 222 209]\n",
      " [313 151 256 153 198 202 141 221 228 268]\n",
      " [301 235 223 150 188 185 156 263 245 210]\n",
      " [254 187 229 164 183 187 158 192 198 190]\n",
      " [258 264 269 209 250 204 158 297 233 230]]\n"
     ]
    }
   ],
   "source": [
    "multiply=np.zeros((10,10))\n",
    "#using loops\n",
    "start3=T.time()\n",
    "for i in range(len(raw_1)):\n",
    "   for j in range(len(raw_1)):\n",
    "       for k in range(len(raw_2)):\n",
    "           multiply[i][j] += raw_1[i][k] * raw_2[k][j]\n",
    "end3=T.time()\n",
    "print(multiply)\n",
    "\n",
    "#using numpy\n",
    "start4=T.time()\n",
    "nmultiply=np.matmul(array_1,array_2)\n",
    "end4=T.time()\n",
    "print(nmultiply)"
   ]
  },
  {
   "cell_type": "markdown",
   "metadata": {},
   "source": [
    "#### Inverse\n",
    "- In inverse here we applied jordan elimination and row operations simultaneously for matrix and a identity matrix."
   ]
  },
  {
   "cell_type": "code",
   "execution_count": 8,
   "metadata": {},
   "outputs": [
    {
     "name": "stdout",
     "output_type": "stream",
     "text": [
      "inverse of matrix using numpy lib\n",
      "[[-0.01355815  0.26690845 -0.32108845 -0.04596287  0.09074085 -0.1034031\n",
      "   0.01683752 -0.09581953  0.13261702  0.15500515]\n",
      " [ 0.09779972 -0.17721754  0.41862651  0.01528583 -0.15740204 -0.12860606\n",
      "   0.06639885  0.11557727 -0.20521119 -0.10716589]\n",
      " [-0.24373422 -0.06381886 -0.54395217  0.25793193  0.51690929  0.11018495\n",
      "  -0.16235356 -0.21745673  0.10655638  0.25718761]\n",
      " [-0.04572141  0.00756351 -0.29229787  0.03815162  0.0321796   0.18454342\n",
      "   0.03215544 -0.13605575  0.11330839  0.0896643 ]\n",
      " [ 0.11684846 -0.13913831  0.40914473  0.01601251 -0.20577558 -0.06284867\n",
      "   0.01172856  0.18822456 -0.10008966 -0.26788048]\n",
      " [ 0.17265095  0.21339729  0.57995631 -0.28568144 -0.51873736 -0.16529008\n",
      "   0.24514117  0.248347   -0.19396099 -0.22706226]\n",
      " [-0.18309615 -0.0249571  -0.64960931  0.27237238  0.47643234  0.21475214\n",
      "  -0.30448945 -0.19626107  0.16146406  0.24333592]\n",
      " [ 0.22629147  0.09557932  0.66039149 -0.3612962  -0.49498126 -0.21103179\n",
      "   0.27884802  0.30366043 -0.22468634 -0.21546861]\n",
      " [ 0.0541533  -0.00212878  0.39219176 -0.1388052  -0.25543572 -0.15482053\n",
      "   0.11262622  0.14797633 -0.03717156 -0.08211057]\n",
      " [-0.10561381 -0.13300839 -0.36870036  0.17738731  0.38852551  0.19048025\n",
      "  -0.20686626 -0.21663751  0.16968432  0.10954694]]\n",
      "inverse of matrix using loop\n",
      " [[ 6.09130788e-02  2.93993701e-01  3.26647924e-01  2.66175413e-02\n",
      "  -1.08971963e+00 -7.99322173e-02  1.91208791e-01  6.07692308e-01\n",
      "   1.07692308e-01 -1.92307692e-01]\n",
      " [ 5.22571571e-02 -2.60996577e-01 -3.05024945e-01 -3.06929717e-02\n",
      "   1.00192757e+00  7.33712257e-02 -1.69150641e-01 -5.57852564e-01\n",
      "  -1.20352564e-01  1.85897436e-01]\n",
      " [-4.83442945e-02 -1.07513722e-01  8.41492360e-02 -7.78816199e-04\n",
      "   6.54205607e-02 -6.67556742e-04  7.14285714e-02  0.00000000e+00\n",
      "   0.00000000e+00  0.00000000e+00]\n",
      " [-1.69753086e-02 -5.55555556e-02 -6.94444444e-02  8.33333333e-02\n",
      "   0.00000000e+00  0.00000000e+00  0.00000000e+00  0.00000000e+00\n",
      "   0.00000000e+00  0.00000000e+00]\n",
      " [ 6.13475850e-02 -7.28802934e-02 -2.73385882e-01 -4.12697699e-02\n",
      "   6.97429907e-01  5.80325049e-02 -1.42170330e-01 -3.36538462e-01\n",
      "  -8.65384615e-02  3.84615385e-02]\n",
      " [-2.86719742e-02  1.61474559e-01  1.14226376e-02 -1.09034268e-02\n",
      "  -8.41121495e-02 -9.34579439e-03  0.00000000e+00  0.00000000e+00\n",
      "   0.00000000e+00  0.00000000e+00]\n",
      " [ 3.83639091e-03 -4.87687287e-02 -2.36611779e-02  2.25856698e-02\n",
      "   1.02803738e-01  1.93591455e-02 -7.14285714e-02  0.00000000e+00\n",
      "  -0.00000000e+00 -0.00000000e+00]\n",
      " [-1.53118787e-02  2.52641164e-02  3.89713707e-02 -6.21218248e-03\n",
      "  -8.77920561e-02 -1.75500026e-02 -7.24587912e-03  7.54807692e-02\n",
      "   1.29807692e-02  1.92307692e-02]\n",
      " [-3.48973033e-02  1.68449938e-01  1.91492325e-01 -7.39594566e-02\n",
      "  -5.47021028e-01 -4.34762375e-02  1.54361264e-01  2.37980769e-01\n",
      "   5.04807692e-02  1.92307692e-02]\n",
      " [-2.05912476e-03 -3.29971241e-02 -2.16229783e-02  4.07543035e-03\n",
      "   8.77920561e-02  6.56099158e-03 -2.20581502e-02 -4.98397436e-02\n",
      "   1.26602564e-02  6.41025641e-03]]\n"
     ]
    }
   ],
   "source": [
    "#using numpy\n",
    "start5=T.time()\n",
    "ninv=np.linalg.inv(array_1)\n",
    "end5=T.time()\n",
    "print('inverse of matrix using numpy lib')\n",
    "print(ninv)\n",
    "\n",
    "#using loops\n",
    "def invert_matrix(BC):\n",
    "    n = len(BC)\n",
    "    I=np.identity(n)\n",
    "    indices = list(range(n))\n",
    "    for fd in range(n):\n",
    "        diagScaler = 1.0 / BC[fd][fd] \n",
    "        for j in range(n):\n",
    "            BC[fd][j] *= diagScaler\n",
    "            I[fd][j] *= diagScaler\n",
    "        for i in indices[0:fd] + indices[fd+1:]: \n",
    "            ro_op = BC[i][fd]\n",
    "            for j in range(n): \n",
    "                BC[i][j] = BC[i][j] - ro_op * BC[fd][j]\n",
    "                I[i][j] = I[i][j] - ro_op * I[fd][j]\n",
    "    return print(\"inverse of matrix using loop\\n\",I)\n",
    "start6=T.time()\n",
    "invert_matrix(raw_1)\n",
    "end6=T.time()"
   ]
  },
  {
   "cell_type": "code",
   "execution_count": 9,
   "metadata": {},
   "outputs": [
    {
     "name": "stdout",
     "output_type": "stream",
     "text": [
      "addition => loop time=0.00029277801513671875, numpy time=0.00010657310485839844\n",
      "multiply => loop time=0.0037202835083007812, numpy time=0.00028395652770996094\n",
      "inverse  => loop time=0.015828371047973633, numpy time=0.0023136138916015625\n"
     ]
    }
   ],
   "source": [
    "pro3=end3-start3\n",
    "pro4=end4-start4\n",
    "pro5=end5-start5\n",
    "pro6=end6-start6\n",
    "print(f\"\"\"addition => loop time={end1-start1}, numpy time={end2-start2}\n",
    "multiply => loop time={end3-start3}, numpy time={end4-start4}\n",
    "inverse  => loop time={end6-start6}, numpy time={end5-start5}\"\"\")"
   ]
  },
  {
   "cell_type": "markdown",
   "metadata": {},
   "source": [
    "#### Conclusion\n",
    "- As from above we can see that numpy does matrix operations faster than traditional looping process"
   ]
  }
 ],
 "metadata": {
  "interpreter": {
   "hash": "e7370f93d1d0cde622a1f8e1c04877d8463912d04d973331ad4851f04de6915a"
  },
  "kernelspec": {
   "display_name": "Python 3.10.4 64-bit",
   "language": "python",
   "name": "python3"
  },
  "language_info": {
   "codemirror_mode": {
    "name": "ipython",
    "version": 3
   },
   "file_extension": ".py",
   "mimetype": "text/x-python",
   "name": "python",
   "nbconvert_exporter": "python",
   "pygments_lexer": "ipython3",
   "version": "3.10.4"
  },
  "orig_nbformat": 4
 },
 "nbformat": 4,
 "nbformat_minor": 2
}
