{
 "cells": [
  {
   "cell_type": "markdown",
   "metadata": {},
   "source": [
    "## Checking the time taken by numpy library and loops"
   ]
  },
  {
   "cell_type": "markdown",
   "metadata": {},
   "source": [
    "#### Initializing matrices and importing modules\n",
    "- importing time and numpy module for time calculation and matrix operations respectively."
   ]
  },
  {
   "cell_type": "code",
   "execution_count": 326,
   "metadata": {},
   "outputs": [],
   "source": [
    "import time as T\n",
    "import numpy as np\n",
    "raw_1=[[1,5,9,7,5,6],[4,9,2,7,7,6],[11,2,5,14,5,6],[8,4,23,5,1,6],[9,15,4,7,13,6],[18,5,7,6,17,4]]\n",
    "raw_2=np.random.randint(10, size=(6,6))\n",
    "array_1=np.array(raw_1)\n",
    "array_2=np.array(raw_2)\n",
    "add=np.zeros((6,6))\n",
    "multiply=np.zeros((6,6))\n"
   ]
  },
  {
   "cell_type": "markdown",
   "metadata": {},
   "source": [
    "#### Function defining"
   ]
  },
  {
   "cell_type": "code",
   "execution_count": 327,
   "metadata": {},
   "outputs": [],
   "source": [
    "def addMatrix(A,B):\n",
    "    for i in range(len(A)):\n",
    "        for j in range(len(A)):\n",
    "            add[i][j] = A[i][j] + B[i][j]\n",
    "    return print(\"addition using loops\\n\", add)\n",
    "\n",
    "def multiMatrix(A, B):\n",
    "    for i in range(len(A)):\n",
    "        for j in range(len(A)):\n",
    "            for k in range(len(B)):\n",
    "                multiply[i][j] += A[i][k] * B[k][j]\n",
    "    return print(\"multiplication using loops\\n\", multiply)\n",
    "    \n",
    "def invert_matrix(BC):\n",
    "    n = len(BC)\n",
    "    I=np.identity(n)\n",
    "    indices = list(range(n))\n",
    "    for fd in range(n):\n",
    "        diagScaler = 1.0 / BC[fd][fd] \n",
    "        for j in range(n):\n",
    "            BC[fd][j] *= diagScaler\n",
    "            I[fd][j] *= diagScaler\n",
    "        for i in indices[0:fd] + indices[fd+1:]: \n",
    "            ro_op = BC[i][fd]\n",
    "            for j in range(n): \n",
    "                BC[i][j] = BC[i][j] - ro_op * BC[fd][j]\n",
    "                I[i][j] = I[i][j] - ro_op * I[fd][j]\n",
    "    return print(\"inverse of matrix using loops\\n\",I)"
   ]
  },
  {
   "cell_type": "markdown",
   "metadata": {},
   "source": [
    "#### addition\n",
    "- In addition we simply applied element by element loop in our looping process "
   ]
  },
  {
   "cell_type": "code",
   "execution_count": 328,
   "metadata": {},
   "outputs": [
    {
     "name": "stdout",
     "output_type": "stream",
     "text": [
      "addition using loops\n",
      " [[ 3.  8.  9. 12.  8.  8.]\n",
      " [10. 11.  7. 14.  9.  9.]\n",
      " [19.  3.  9. 22.  8. 10.]\n",
      " [ 9. 13. 25.  5.  4. 12.]\n",
      " [14. 20. 12. 12. 17.  6.]\n",
      " [20.  7.  7.  8. 22. 12.]]\n",
      "addition using numpy\n",
      " [[ 3  8  9 12  8  8]\n",
      " [10 11  7 14  9  9]\n",
      " [19  3  9 22  8 10]\n",
      " [ 9 13 25  5  4 12]\n",
      " [14 20 12 12 17  6]\n",
      " [20  7  7  8 22 12]]\n"
     ]
    }
   ],
   "source": [
    "#using loops\n",
    "start1=T.time()\n",
    "addMatrix(raw_1, raw_2)\n",
    "end1=T.time()\n",
    "\n",
    "#using numpy\n",
    "start2=T.time()\n",
    "nadd=np.add(raw_1,raw_2)\n",
    "end2=T.time()\n",
    "print(\"addition using numpy\\n\", nadd)"
   ]
  },
  {
   "cell_type": "markdown",
   "metadata": {},
   "source": [
    "#### multiplication\n",
    "- In looping process here we applied row wise an coloumn wise loops."
   ]
  },
  {
   "cell_type": "code",
   "execution_count": 329,
   "metadata": {},
   "outputs": [
    {
     "name": "stdout",
     "output_type": "stream",
     "text": [
      "multiplication using loops\n",
      " [[148. 122. 115. 149. 111. 143.]\n",
      " [132. 142. 123. 146. 115. 133.]\n",
      " [125. 205.  98. 146. 144. 180.]\n",
      " [246. 117. 130. 269. 150. 198.]\n",
      " [224. 201. 209. 259. 172. 169.]\n",
      " [221. 218. 201. 274. 191. 147.]]\n",
      "multiplication using numpy\n",
      " [[148 122 115 149 111 143]\n",
      " [132 142 123 146 115 133]\n",
      " [125 205  98 146 144 180]\n",
      " [246 117 130 269 150 198]\n",
      " [224 201 209 259 172 169]\n",
      " [221 218 201 274 191 147]]\n"
     ]
    }
   ],
   "source": [
    "start3=T.time()\n",
    "multiMatrix(raw_1,raw_2)\n",
    "end3=T.time()\n",
    "\n",
    "#using numpy\n",
    "start4=T.time()\n",
    "nmultiply=np.matmul(array_1,array_2)\n",
    "end4=T.time()\n",
    "print(\"multiplication using numpy\\n\",nmultiply)"
   ]
  },
  {
   "cell_type": "markdown",
   "metadata": {},
   "source": [
    "#### Inverse\n",
    "- In inverse we applied jordan elimination and row operations simultaneously for matrix and a identity matrix."
   ]
  },
  {
   "cell_type": "code",
   "execution_count": 330,
   "metadata": {},
   "outputs": [
    {
     "name": "stdout",
     "output_type": "stream",
     "text": [
      "inverse of matrix using numpy\n",
      " [[-0.18370539  0.15332153  0.01117883  0.05758076 -0.05683061  0.02768231]\n",
      " [-0.04450448 -0.10257554  0.01893536  0.01683198  0.16075447 -0.07416269]\n",
      " [ 0.08687616 -0.17400727  0.0068838   0.014405    0.07553063 -0.01453247]\n",
      " [ 0.1501493  -0.36242443  0.13893615 -0.0668131   0.19324171 -0.07963443]\n",
      " [ 0.16863358 -0.13385665 -0.03054565 -0.06961762  0.02809416  0.05593826]\n",
      " [-0.2116451   0.85531264 -0.16460577  0.09073236 -0.4866467   0.12527886]]\n",
      "inverse of matrix using loops\n",
      " [[-0.18370539  0.15332153  0.01117883  0.05758076 -0.05683061  0.02768231]\n",
      " [-0.04450448 -0.10257554  0.01893536  0.01683198  0.16075447 -0.07416269]\n",
      " [ 0.08687616 -0.17400727  0.0068838   0.014405    0.07553063 -0.01453247]\n",
      " [ 0.1501493  -0.36242443  0.13893615 -0.0668131   0.19324171 -0.07963443]\n",
      " [ 0.16863358 -0.13385665 -0.03054565 -0.06961762  0.02809416  0.05593826]\n",
      " [-0.2116451   0.85531264 -0.16460577  0.09073236 -0.4866467   0.12527886]]\n"
     ]
    }
   ],
   "source": [
    "#using numpy\n",
    "start5=T.time()\n",
    "ninv=np.linalg.inv(array_1)\n",
    "end5=T.time()\n",
    "print('inverse of matrix using numpy\\n', ninv)\n",
    "\n",
    "#using loops\n",
    "start6=T.time()\n",
    "invert_matrix(raw_1)\n",
    "end6=T.time()"
   ]
  },
  {
   "cell_type": "code",
   "execution_count": 331,
   "metadata": {},
   "outputs": [
    {
     "name": "stdout",
     "output_type": "stream",
     "text": [
      "addition => loops time=0.0008957386016845703, numpy time=8.368492126464844e-05\n",
      "multiply => loops time=0.0007708072662353516, numpy time=4.792213439941406e-05\n",
      "inverse  => loops time=0.0009338855743408203, numpy time=0.0002703666687011719\n"
     ]
    }
   ],
   "source": [
    "print(f\"\"\"addition => loops time={end1-start1}, numpy time={end2-start2}\n",
    "multiply => loops time={end3-start3}, numpy time={end4-start4}\n",
    "inverse  => loops time={end6-start6}, numpy time={end5-start5}\"\"\")"
   ]
  },
  {
   "cell_type": "markdown",
   "metadata": {},
   "source": [
    "#### Conclusion\n",
    "- As from above we can see that numpy does matrix operations faster than traditional looping process"
   ]
  }
 ],
 "metadata": {
  "interpreter": {
   "hash": "e7370f93d1d0cde622a1f8e1c04877d8463912d04d973331ad4851f04de6915a"
  },
  "kernelspec": {
   "display_name": "Python 3.10.4 64-bit",
   "language": "python",
   "name": "python3"
  },
  "language_info": {
   "codemirror_mode": {
    "name": "ipython",
    "version": 3
   },
   "file_extension": ".py",
   "mimetype": "text/x-python",
   "name": "python",
   "nbconvert_exporter": "python",
   "pygments_lexer": "ipython3",
   "version": "3.10.4"
  },
  "orig_nbformat": 4
 },
 "nbformat": 4,
 "nbformat_minor": 2
}
