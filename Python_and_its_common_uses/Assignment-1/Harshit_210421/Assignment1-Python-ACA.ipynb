{
 "cells": [
  {
   "cell_type": "markdown",
   "id": "68565d00",
   "metadata": {},
   "source": [
    "To import the required libraries"
   ]
  },
  {
   "cell_type": "code",
   "execution_count": 10,
   "id": "7581f6bb",
   "metadata": {},
   "outputs": [],
   "source": [
    "import numpy as np\n",
    "import random\n",
    "import time"
   ]
  },
  {
   "cell_type": "markdown",
   "id": "2b43c322",
   "metadata": {},
   "source": [
    "to input the size of the matrix"
   ]
  },
  {
   "cell_type": "code",
   "execution_count": 11,
   "id": "f7237351",
   "metadata": {},
   "outputs": [
    {
     "name": "stdout",
     "output_type": "stream",
     "text": [
      "Enter size of square matrix3\n"
     ]
    }
   ],
   "source": [
    "n=input(\"Enter size of square matrix\")\n",
    "n=int(n)"
   ]
  },
  {
   "cell_type": "code",
   "execution_count": 12,
   "id": "7e13bb87",
   "metadata": {},
   "outputs": [],
   "source": [
    "array1=[[random.random() for i in range(n)] for j in range(n)]\n",
    "array2=[[random.random() for i in range(n)] for j in range(n)]"
   ]
  },
  {
   "cell_type": "markdown",
   "id": "98dd3fef",
   "metadata": {},
   "source": [
    "to print the first array"
   ]
  },
  {
   "cell_type": "code",
   "execution_count": 13,
   "id": "0872d715",
   "metadata": {},
   "outputs": [
    {
     "name": "stdout",
     "output_type": "stream",
     "text": [
      "First array\n",
      "[0.23665119734301454, 0.6630408199692481, 0.5825454035661572]\n",
      "[0.015188014568703334, 0.601078277779338, 0.01472641322775281]\n",
      "[0.6169037085257068, 0.7647323728470248, 0.9478357828631212]\n"
     ]
    }
   ],
   "source": [
    "print(\"First array\")\n",
    "for e in array1:\n",
    "    print(e)"
   ]
  },
  {
   "cell_type": "markdown",
   "id": "930a54bb",
   "metadata": {},
   "source": [
    "to print the second array"
   ]
  },
  {
   "cell_type": "code",
   "execution_count": 14,
   "id": "a0a7020b",
   "metadata": {},
   "outputs": [
    {
     "name": "stdout",
     "output_type": "stream",
     "text": [
      "Second array\n",
      "[0.21610524896975025, 0.43116722042752276, 0.6352271391585872]\n",
      "[0.3055285014673803, 0.6779492886822429, 0.6253346745281133]\n",
      "[0.19610434896790918, 0.002708924537384916, 0.5527278252955774]\n"
     ]
    }
   ],
   "source": [
    "print(\"Second array\")\n",
    "for e in array2:\n",
    "    print(e)"
   ]
  },
  {
   "cell_type": "markdown",
   "id": "1e652d6f",
   "metadata": {},
   "source": [
    "To compute their product"
   ]
  },
  {
   "cell_type": "code",
   "execution_count": 15,
   "id": "f3ccc170",
   "metadata": {},
   "outputs": [],
   "source": [
    "start = time.process_time()\n",
    "productmat=np.zeros((n,n))\n",
    "for i in range(len(array1)):\n",
    "    #iterate through columns of array1\n",
    "    for j in range(len(array2[0])):\n",
    "        # iterate through rows of array2\n",
    "        for k in range(len(array2)):\n",
    "           productmat[i][j] += array1[i][k] * array2[k][j]"
   ]
  },
  {
   "cell_type": "markdown",
   "id": "e35204a2",
   "metadata": {},
   "source": [
    "To print thier product now"
   ]
  },
  {
   "cell_type": "code",
   "execution_count": 16,
   "id": "f6af8a6d",
   "metadata": {},
   "outputs": [
    {
     "name": "stdout",
     "output_type": "stream",
     "text": [
      "Their product\n",
      "[0.36795912 0.55312236 0.88693873]\n",
      "[0.18981667 0.41408906 0.39366263]\n",
      "[0.55283838 0.78700604 1.39398286]\n",
      "0.010054999999999925\n"
     ]
    }
   ],
   "source": [
    "print(\"Their product\")\n",
    "for r in productmat:\n",
    "    print(r)\n",
    "print(time.process_time() - start)"
   ]
  },
  {
   "cell_type": "markdown",
   "id": "390c2135",
   "metadata": {},
   "source": [
    "Now let's head on to the addition part"
   ]
  },
  {
   "cell_type": "code",
   "execution_count": 17,
   "id": "41ef6669",
   "metadata": {},
   "outputs": [],
   "source": [
    "start1 = time.process_time()\n",
    "summat=np.zeros((n,n))\n",
    "for i in range(n):\n",
    "    for j in range(n):\n",
    "        summat[i][j]=array1[i][j] + array2[i][j]\n"
   ]
  },
  {
   "cell_type": "markdown",
   "id": "b7bedc6b",
   "metadata": {},
   "source": [
    "Now printing"
   ]
  },
  {
   "cell_type": "code",
   "execution_count": 18,
   "id": "1a7d305d",
   "metadata": {},
   "outputs": [
    {
     "name": "stdout",
     "output_type": "stream",
     "text": [
      "Their sum\n",
      "[0.45275645 1.09420804 1.21777254]\n",
      "[0.32071652 1.27902757 0.64006109]\n",
      "[0.81300806 0.7674413  1.50056361]\n",
      "0.01105199999999984\n"
     ]
    }
   ],
   "source": [
    "print(\"Their sum\")\n",
    "for r in summat:\n",
    "    print(r)\n",
    "print(time.process_time() - start1)"
   ]
  },
  {
   "cell_type": "markdown",
   "id": "737119ea",
   "metadata": {},
   "source": [
    "Now the inverse part"
   ]
  },
  {
   "cell_type": "code",
   "execution_count": 19,
   "id": "b8f443f6",
   "metadata": {},
   "outputs": [],
   "source": [
    "start2 = time.process_time()\n",
    "def print_matrix(Title, M):\n",
    "    print(Title)\n",
    "    for row in M:\n",
    "        print([round(x,3)+0 for x in row])\n",
    "        \n",
    "def print_matrices(Action, Title1, M1, Title2, M2):\n",
    "    print(Action)\n",
    "    print(Title1, '\\t'*int(len(M1)/2)+\"\\t\"*len(M1), Title2)\n",
    "    for i in range(len(M1)):\n",
    "        row1 = ['{0:+7.3f}'.format(x) for x in M1[i]]\n",
    "        row2 = ['{0:+7.3f}'.format(x) for x in M2[i]]\n",
    "        print(row1,'\\t', row2)\n",
    "        \n",
    "def zeros_matrix(rows, cols):\n",
    "    A = []\n",
    "    for i in range(rows):\n",
    "        A.append([])\n",
    "        for j in range(cols):\n",
    "            A[-1].append(0.0)\n",
    "\n",
    "    return A\n",
    "\n",
    "def copy_matrix(M):\n",
    "    rows = len(M)\n",
    "    cols = len(M[0])\n",
    "\n",
    "    MC = zeros_matrix(rows, cols)\n",
    "\n",
    "    for i in range(rows):\n",
    "        for j in range(rows):\n",
    "            MC[i][j] = M[i][j]\n",
    "\n",
    "    return MC\n",
    "\n",
    "def matrix_multiply(A,B):\n",
    "    rowsA = len(A)\n",
    "    colsA = len(A[0])\n",
    "\n",
    "    rowsB = len(B)\n",
    "    colsB = len(B[0])\n",
    "\n",
    "    if colsA != rowsB:\n",
    "        print('Number of A columns must equal number of B rows.')\n",
    "        sys.exit()\n",
    "\n",
    "    C = zeros_matrix(rowsA, colsB)\n",
    "\n",
    "    for i in range(rowsA):\n",
    "        for j in range(colsB):\n",
    "            total = 0\n",
    "            for ii in range(colsA):\n",
    "                total += A[i][ii] * B[ii][j]\n",
    "            C[i][j] = total\n",
    "\n",
    "    return C"
   ]
  },
  {
   "cell_type": "code",
   "execution_count": 20,
   "id": "e7b41793",
   "metadata": {},
   "outputs": [
    {
     "name": "stdout",
     "output_type": "stream",
     "text": [
      "A Matrix\n",
      "[0.237, 0.663, 0.583]\n",
      "[0.015, 0.601, 0.015]\n",
      "[0.617, 0.765, 0.948]\n",
      "\n",
      "I Matrix\n",
      "[1, 0, 0, 0, 0]\n",
      "[0, 1, 0, 0, 0]\n",
      "[0, 0, 1, 0, 0]\n",
      "[0, 0, 0, 1, 0]\n",
      "[0, 0, 0, 0, 1]\n"
     ]
    }
   ],
   "source": [
    "A = array1\n",
    "I = [[1,0,0,0,0],[0,1,0,0,0],[0,0,1,0,0],[0,0,0,1,0],[0,0,0,0,1]]\n",
    "print_matrix('A Matrix', A)\n",
    "print()\n",
    "print_matrix('I Matrix', I)"
   ]
  },
  {
   "cell_type": "code",
   "execution_count": 21,
   "id": "882d8e0f",
   "metadata": {},
   "outputs": [
    {
     "name": "stdout",
     "output_type": "stream",
     "text": [
      "\n",
      "Since the matrices won't be the original A and I as we start row operations, \n",
      "    the matrices will be called: AM for \"A Morphing\", and IM for \"I Morphing\" \n",
      "\n",
      "AM Matrix\n",
      "[0.237, 0.663, 0.583]\n",
      "[0.015, 0.601, 0.015]\n",
      "[0.617, 0.765, 0.948]\n",
      "\n",
      "IM Matrix\n",
      "[1, 0, 0, 0, 0]\n",
      "[0, 1, 0, 0, 0]\n",
      "[0, 0, 1, 0, 0]\n",
      "[0, 0, 0, 1, 0]\n",
      "[0, 0, 0, 0, 1]\n"
     ]
    }
   ],
   "source": [
    "AM = copy_matrix(A)\n",
    "IM = copy_matrix(I)\n",
    "n = len(AM)\n",
    "\n",
    "exString = \"\"\"\n",
    "Since the matrices won't be the original A and I as we start row operations, \n",
    "    the matrices will be called: AM for \"A Morphing\", and IM for \"I Morphing\" \n",
    "\"\"\"\n",
    "print(exString)\n",
    "print_matrix('AM Matrix', AM)\n",
    "print()\n",
    "print_matrix('IM Matrix', IM)"
   ]
  },
  {
   "cell_type": "code",
   "execution_count": 22,
   "id": "41dcdc63",
   "metadata": {},
   "outputs": [
    {
     "name": "stdout",
     "output_type": "stream",
     "text": [
      "AM Matrix\n",
      "[1.0, 2.802, 2.462]\n",
      "[0.015, 0.601, 0.015]\n",
      "[0.617, 0.765, 0.948]\n",
      "\n",
      "IM Matrix\n",
      "[4.226, 0.0, 0.0, 0, 0]\n",
      "[0, 1, 0, 0, 0]\n",
      "[0, 0, 1, 0, 0]\n",
      "[0, 0, 0, 1, 0]\n",
      "[0, 0, 0, 0, 1]\n"
     ]
    }
   ],
   "source": [
    "fd = 0 # fd stands for focus diagonal\n",
    "fdScaler = 1. / AM[fd][fd]\n",
    "\n",
    "for j in range(n): # using j to indicate cycling through columns\n",
    "    AM[fd][j] = fdScaler * AM[fd][j]\n",
    "    IM[fd][j] = fdScaler * IM[fd][j]\n",
    "\n",
    "print_matrix('AM Matrix', AM)\n",
    "print()\n",
    "print_matrix('IM Matrix', IM)"
   ]
  },
  {
   "cell_type": "code",
   "execution_count": 23,
   "id": "5d954d57",
   "metadata": {},
   "outputs": [
    {
     "name": "stdout",
     "output_type": "stream",
     "text": [
      "AM Matrix\n",
      "[1.0, 2.802, 2.462]\n",
      "[0.0, 0.559, -0.023]\n",
      "[0.0, -0.964, -0.571]\n",
      "\n",
      "IM Matrix\n",
      "[4.226, 0.0, 0.0, 0, 0]\n",
      "[-0.064, 1.0, 0.0, 0, 0]\n",
      "[-2.607, 0.0, 1.0, 0, 0]\n",
      "[0, 0, 0, 1, 0]\n",
      "[0, 0, 0, 0, 1]\n"
     ]
    }
   ],
   "source": [
    "n = len(A)\n",
    "indices = list(range(n))\n",
    "\n",
    "for i in indices[0:fd] + indices[fd+1:]: # *** skip row with fd in it.\n",
    "    crScaler = AM[i][fd] # cr stands for \"current row\".\n",
    "    for j in range(n): # cr - crScaler * fdRow, but one element at a time.\n",
    "        AM[i][j] = AM[i][j] - crScaler * AM[fd][j]\n",
    "        IM[i][j] = IM[i][j] - crScaler * IM[fd][j]\n",
    "    \n",
    "print_matrix('AM Matrix', AM)\n",
    "print()\n",
    "print_matrix('IM Matrix', IM)"
   ]
  },
  {
   "cell_type": "code",
   "execution_count": 24,
   "id": "db9adc64",
   "metadata": {},
   "outputs": [
    {
     "name": "stdout",
     "output_type": "stream",
     "text": [
      "\n",
      "Using the matrices above, Scale row-2 of AM and IM by diagonal element 2 of AM, which is 1/+0.559.\n",
      "\n",
      "AM Matrix\n",
      "[1.0, 2.802, 2.462]\n",
      "[0.0, 1.0, -0.041]\n",
      "[0.0, -0.964, -0.571]\n",
      "\n",
      "IM Matrix\n",
      "[4.226, 0.0, 0.0, 0, 0]\n",
      "[-0.115, 1.79, 0.0, 0, 0]\n",
      "[-2.607, 0.0, 1.0, 0, 0]\n",
      "[0, 0, 0, 1, 0]\n",
      "[0, 0, 0, 0, 1]\n",
      "\n",
      "Using the matrices above, subtract +2.802 * row-2 of AM from row-1 of AM, and \n",
      "\tsubtract +2.802 * row-2 of IM from row-1 of IM\n",
      "\n",
      "AM Matrix\n",
      "[1.0, 0.0, 2.575]\n",
      "[0.0, 1.0, -0.041]\n",
      "[0.0, -0.964, -0.571]\n",
      "\n",
      "IM Matrix\n",
      "[4.548, -5.016, 0.0, 0, 0]\n",
      "[-0.115, 1.79, 0.0, 0, 0]\n",
      "[-2.607, 0.0, 1.0, 0, 0]\n",
      "[0, 0, 0, 1, 0]\n",
      "[0, 0, 0, 0, 1]\n",
      "\n",
      "Using the matrices above, subtract -0.964 * row-2 of AM from row-3 of AM, and \n",
      "\tsubtract -0.964 * row-2 of IM from row-3 of IM\n",
      "\n",
      "AM Matrix\n",
      "[1.0, 0.0, 2.575]\n",
      "[0.0, 1.0, -0.041]\n",
      "[0.0, 0.0, -0.61]\n",
      "\n",
      "IM Matrix\n",
      "[4.548, -5.016, 0.0, 0, 0]\n",
      "[-0.115, 1.79, 0.0, 0, 0]\n",
      "[-2.718, 1.725, 1.0, 0, 0]\n",
      "[0, 0, 0, 1, 0]\n",
      "[0, 0, 0, 0, 1]\n",
      "\n",
      "0.08070199999999983\n",
      "\n",
      "Using the matrices above, Scale row-3 of AM and IM by diagonal element 3 of AM, which is 1/-0.610.\n",
      "\n",
      "AM Matrix\n",
      "[1.0, 0.0, 2.575]\n",
      "[0.0, 1.0, -0.041]\n",
      "[0.0, 0.0, 1.0]\n",
      "\n",
      "IM Matrix\n",
      "[4.548, -5.016, 0.0, 0, 0]\n",
      "[-0.115, 1.79, 0.0, 0, 0]\n",
      "[4.456, -2.829, -1.64, 0, 0]\n",
      "[0, 0, 0, 1, 0]\n",
      "[0, 0, 0, 0, 1]\n",
      "\n",
      "Using the matrices above, subtract +2.575 * row-3 of AM from row-1 of AM, and \n",
      "\tsubtract +2.575 * row-3 of IM from row-1 of IM\n",
      "\n",
      "AM Matrix\n",
      "[1.0, 0.0, 0.0]\n",
      "[0.0, 1.0, -0.041]\n",
      "[0.0, 0.0, 1.0]\n",
      "\n",
      "IM Matrix\n",
      "[-6.928, 2.27, 4.223, 0, 0]\n",
      "[-0.115, 1.79, 0.0, 0, 0]\n",
      "[4.456, -2.829, -1.64, 0, 0]\n",
      "[0, 0, 0, 1, 0]\n",
      "[0, 0, 0, 0, 1]\n",
      "\n",
      "Using the matrices above, subtract -0.041 * row-3 of AM from row-2 of AM, and \n",
      "\tsubtract -0.041 * row-3 of IM from row-2 of IM\n",
      "\n",
      "AM Matrix\n",
      "[1.0, 0.0, 0.0]\n",
      "[0.0, 1.0, 0.0]\n",
      "[0.0, 0.0, 1.0]\n",
      "\n",
      "IM Matrix\n",
      "[-6.928, 2.27, 4.223, 0, 0]\n",
      "[0.066, 1.676, -0.067, 0, 0]\n",
      "[4.456, -2.829, -1.64, 0, 0]\n",
      "[0, 0, 0, 1, 0]\n",
      "[0, 0, 0, 0, 1]\n",
      "\n",
      "0.08323299999999989\n"
     ]
    }
   ],
   "source": [
    "indices = list(range(n)) # to allow flexible row referencing ***\n",
    "# We've already run for fd = 0, now let's run for fd = 1 to the last fd\n",
    "for fd in range(1,n): # fd stands for focus diagonal\n",
    "    fdScaler = 1.0 / AM[fd][fd]\n",
    "    # FIRST: scale fd row with fd inverse. \n",
    "    for j in range(n): # Use j to indicate column looping.\n",
    "        AM[fd][j] *= fdScaler\n",
    "        IM[fd][j] *= fdScaler\n",
    "    \n",
    "    # Section to print out current actions:\n",
    "    string1 = '\\nUsing the matrices above, Scale row-{} of AM and IM by '\n",
    "    string2 = 'diagonal element {} of AM, which is 1/{:+.3f}.\\n'\n",
    "    stringsum = string1 + string2\n",
    "    val1 = fd+1; val2 = fd+1\n",
    "    Action = stringsum.format(val1,val2,round(1./fdScaler,3))\n",
    "    print(Action)\n",
    "    print_matrix('AM Matrix', AM)\n",
    "    print()\n",
    "    print_matrix('IM Matrix', IM)\n",
    "    print()\n",
    "    \n",
    "    # SECOND: operate on all rows except fd row.\n",
    "    for i in indices[:fd] + indices[fd+1:]: # *** skip row with fd in it.\n",
    "        crScaler = AM[i][fd] # cr stands for \"current row\".\n",
    "        for j in range(n): # cr - crScaler * fdRow, but one element at a time.\n",
    "            AM[i][j] = AM[i][j] - crScaler * AM[fd][j]\n",
    "            IM[i][j] = IM[i][j] - crScaler * IM[fd][j]\n",
    "        \n",
    "        # Section to print out current actions:\n",
    "        string1 = 'Using the matrices above, subtract {:+.3f} * row-{} of AM from row-{} of AM, and \\n'\n",
    "        string2 = '\\tsubtract {:+.3f} * row-{} of IM from row-{} of IM\\n'\n",
    "        val1 = i+1; val2 = fd+1\n",
    "        stringsum = string1 + string2\n",
    "        Action = stringsum.format(crScaler, val2, val1, crScaler, val2, val1)\n",
    "        print(Action)\n",
    "        print_matrix('AM Matrix', AM)\n",
    "        print()\n",
    "        print_matrix('IM Matrix', IM)\n",
    "        print()\n",
    "    print(time.process_time() - start2)"
   ]
  },
  {
   "cell_type": "markdown",
   "id": "b207bccc",
   "metadata": {},
   "source": [
    "END.. Created by- Harshit Chaudhary 210421"
   ]
  }
 ],
 "metadata": {
  "kernelspec": {
   "display_name": "Python 3 (ipykernel)",
   "language": "python",
   "name": "python3"
  },
  "language_info": {
   "codemirror_mode": {
    "name": "ipython",
    "version": 3
   },
   "file_extension": ".py",
   "mimetype": "text/x-python",
   "name": "python",
   "nbconvert_exporter": "python",
   "pygments_lexer": "ipython3",
   "version": "3.9.12"
  }
 },
 "nbformat": 4,
 "nbformat_minor": 5
}
