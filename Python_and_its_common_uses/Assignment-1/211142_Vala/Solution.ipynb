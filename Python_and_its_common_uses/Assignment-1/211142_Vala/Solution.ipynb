{
 "cells": [
  {
   "cell_type": "markdown",
   "metadata": {},
   "source": [
    "# Assignment 1\n",
    "---\n",
    "\n",
    "### Defining a function which give a m n matrix\n",
    "---"
   ]
  },
  {
   "cell_type": "code",
   "execution_count": 450,
   "metadata": {},
   "outputs": [],
   "source": [
    "def mat(n,m):\n",
    "    return [random.choices(range(0,10),k=m) for _ in range(n)]"
   ]
  },
  {
   "cell_type": "code",
   "execution_count": 451,
   "metadata": {},
   "outputs": [],
   "source": [
    "import time as tm"
   ]
  },
  {
   "cell_type": "markdown",
   "metadata": {},
   "source": [
    "---\n",
    "### Matrix Addition\n",
    "___\n"
   ]
  },
  {
   "cell_type": "code",
   "execution_count": 452,
   "metadata": {},
   "outputs": [],
   "source": [
    "t1=tm.time()"
   ]
  },
  {
   "cell_type": "code",
   "execution_count": 453,
   "metadata": {},
   "outputs": [
    {
     "data": {
      "text/plain": [
       "[[7, 2, 5, 8, 8, 3],\n",
       " [9, 7, 6, 1, 0, 8],\n",
       " [3, 9, 8, 2, 1, 1],\n",
       " [7, 1, 8, 5, 9, 8],\n",
       " [6, 8, 2, 5, 2, 4]]"
      ]
     },
     "execution_count": 453,
     "metadata": {},
     "output_type": "execute_result"
    }
   ],
   "source": [
    "matA=list(mat(5,6))\n",
    "matA\n"
   ]
  },
  {
   "cell_type": "code",
   "execution_count": 454,
   "metadata": {},
   "outputs": [
    {
     "data": {
      "text/plain": [
       "[[5, 2, 2, 9, 7, 0],\n",
       " [5, 1, 3, 4, 3, 3],\n",
       " [8, 6, 8, 2, 4, 7],\n",
       " [2, 7, 6, 4, 3, 0],\n",
       " [6, 8, 1, 9, 0, 7]]"
      ]
     },
     "execution_count": 454,
     "metadata": {},
     "output_type": "execute_result"
    }
   ],
   "source": [
    "matB=list(mat(5,6))\n",
    "matB"
   ]
  },
  {
   "cell_type": "code",
   "execution_count": 455,
   "metadata": {},
   "outputs": [],
   "source": [
    "def mat_add(matA,matB):\n",
    "    return[ [matA[i1][j1] + matB[i1][j1] for j1 in range(len(matA[0]))] for i1 in range(len(matA))]"
   ]
  },
  {
   "cell_type": "code",
   "execution_count": 456,
   "metadata": {},
   "outputs": [
    {
     "data": {
      "text/plain": [
       "[[12, 4, 7, 17, 15, 3],\n",
       " [14, 8, 9, 5, 3, 11],\n",
       " [11, 15, 16, 4, 5, 8],\n",
       " [9, 8, 14, 9, 12, 8],\n",
       " [12, 16, 3, 14, 2, 11]]"
      ]
     },
     "execution_count": 456,
     "metadata": {},
     "output_type": "execute_result"
    }
   ],
   "source": [
    "mat_add(matA,matB)"
   ]
  },
  {
   "cell_type": "code",
   "execution_count": 457,
   "metadata": {},
   "outputs": [
    {
     "data": {
      "text/plain": [
       "0.17962312698364258"
      ]
     },
     "execution_count": 457,
     "metadata": {},
     "output_type": "execute_result"
    }
   ],
   "source": [
    "t2=tm.time()\n",
    "t2-t1"
   ]
  },
  {
   "cell_type": "markdown",
   "metadata": {},
   "source": [
    "---\n",
    "### Matrix Multiplication\n",
    "---"
   ]
  },
  {
   "cell_type": "code",
   "execution_count": 458,
   "metadata": {},
   "outputs": [],
   "source": [
    "t3=tm.time()"
   ]
  },
  {
   "cell_type": "code",
   "execution_count": 459,
   "metadata": {},
   "outputs": [
    {
     "name": "stdout",
     "output_type": "stream",
     "text": [
      "[[4, 8, 7, 3], [2, 0, 6, 0], [9, 4, 6, 0]]\n",
      "[[4, 7, 7, 9, 2, 8], [9, 4, 8, 6, 8, 2], [3, 1, 2, 1, 2, 5], [4, 3, 7, 4, 5, 7]]\n"
     ]
    }
   ],
   "source": [
    "#For Multiplication we want p q and q r type matrix\n",
    "matC=mat(3,4)\n",
    "matD=mat(4,6)\n",
    "print(matC)\n",
    "print(matD)"
   ]
  },
  {
   "cell_type": "code",
   "execution_count": 460,
   "metadata": {},
   "outputs": [],
   "source": [
    "def sub(matC,m,matD,n):\n",
    "    element=0\n",
    "    for i in range(len(matC[0])):\n",
    "        element = element + (matC[m][i])* (matD[i][n])\n",
    "    return element"
   ]
  },
  {
   "cell_type": "code",
   "execution_count": 461,
   "metadata": {},
   "outputs": [
    {
     "data": {
      "text/plain": [
       "[[121, 26, 90],\n",
       " [76, 20, 85],\n",
       " [127, 26, 107],\n",
       " [103, 24, 111],\n",
       " [101, 16, 62],\n",
       " [104, 46, 110]]"
      ]
     },
     "execution_count": 461,
     "metadata": {},
     "output_type": "execute_result"
    }
   ],
   "source": [
    "[[  sub(matC,i,matD,j) for i in range(len(matC))] for j in range(len(matD[0]))]"
   ]
  },
  {
   "cell_type": "code",
   "execution_count": 462,
   "metadata": {},
   "outputs": [
    {
     "data": {
      "text/plain": [
       "0.1177980899810791"
      ]
     },
     "execution_count": 462,
     "metadata": {},
     "output_type": "execute_result"
    }
   ],
   "source": [
    "t4=tm.time()\n",
    "t4-t3"
   ]
  },
  {
   "cell_type": "markdown",
   "metadata": {},
   "source": [
    "---\n",
    "### Inverse of a Matrix\n",
    "---"
   ]
  },
  {
   "cell_type": "code",
   "execution_count": 463,
   "metadata": {},
   "outputs": [],
   "source": [
    "MatInverse=mat(3,3)"
   ]
  },
  {
   "cell_type": "code",
   "execution_count": 464,
   "metadata": {},
   "outputs": [],
   "source": [
    "def transposeMatrix(m):\n",
    "    return map(list,zip(*m))"
   ]
  },
  {
   "cell_type": "code",
   "execution_count": 465,
   "metadata": {},
   "outputs": [],
   "source": [
    "def getMatrixMinor(m,i,j):\n",
    "    return [row[:j] + row[j+1:] for row in (m[:i]+m[i+1:])]"
   ]
  },
  {
   "cell_type": "code",
   "execution_count": 466,
   "metadata": {},
   "outputs": [],
   "source": [
    "def getMatrixDeterminant(m):\n",
    "     #base case for 2x2 matrix\n",
    "     if len(m) == 2:\n",
    "         return m[0][0]*m[1][1]-m[0][1]*m[1][0]\n",
    "\n",
    "     determinant = 0\n",
    "     for c in range(len(m)):\n",
    "         determinant += ((-1)**c)*m[0][c]*getMatrixDeterminant(getMatrixMinor(m,0,c))\n",
    "     return determinant"
   ]
  },
  {
   "cell_type": "code",
   "execution_count": 467,
   "metadata": {},
   "outputs": [],
   "source": [
    "def getMatrixInverse(m):\n",
    "     determinant = getMatrixDeterminant(m)\n",
    "    #special case for 2x2 matrix:\n",
    "     if len(m) == 2:\n",
    "         return [[m[1][1]/determinant, -1*m[0][1]/determinant],[-1*m[1][0]/determinant, m[0][0]/determinant]]\n",
    "\n",
    "     #find matrix of cofactors\n",
    "     cofactors = []\n",
    "     for r in range(len(m)):\n",
    "         cofactorRow = []\n",
    "         for c in range(len(m)):\n",
    "             minor = getMatrixMinor(m,r,c)\n",
    "             cofactorRow.append(((-1)**(r+c)) * getMatrixDeterminant(minor))\n",
    "         cofactors.append(cofactorRow)\n",
    "     cofactors = transposeMatrix(cofactors)\n",
    "     for r in range(len(m)):\n",
    "         for c in range(len(m)):\n",
    "             cofactors[r][c] = cofactors[r][c]/determinant\n",
    "     return cofactors"
   ]
  },
  {
   "cell_type": "code",
   "execution_count": 468,
   "metadata": {},
   "outputs": [],
   "source": [
    "#getMatrixInverse(MatInverse)"
   ]
  },
  {
   "cell_type": "markdown",
   "metadata": {},
   "source": [
    "---\n",
    "# By Using Numpy\n",
    "---"
   ]
  },
  {
   "cell_type": "code",
   "execution_count": 469,
   "metadata": {},
   "outputs": [],
   "source": [
    "import numpy as np"
   ]
  },
  {
   "cell_type": "code",
   "execution_count": 470,
   "metadata": {},
   "outputs": [],
   "source": [
    "t1=tm.time()"
   ]
  },
  {
   "cell_type": "markdown",
   "metadata": {},
   "source": [
    "---\n",
    "### Addition through Numpy\n",
    "---"
   ]
  },
  {
   "cell_type": "code",
   "execution_count": 471,
   "metadata": {},
   "outputs": [
    {
     "data": {
      "text/plain": [
       "array([[2, 9, 6],\n",
       "       [6, 2, 4]])"
      ]
     },
     "execution_count": 471,
     "metadata": {},
     "output_type": "execute_result"
    }
   ],
   "source": [
    "a=np.array(mat(2,3))\n",
    "a"
   ]
  },
  {
   "cell_type": "code",
   "execution_count": 472,
   "metadata": {},
   "outputs": [
    {
     "data": {
      "text/plain": [
       "array([[0, 6, 1],\n",
       "       [8, 2, 2]])"
      ]
     },
     "execution_count": 472,
     "metadata": {},
     "output_type": "execute_result"
    }
   ],
   "source": [
    "b=np.array(mat(2,3))\n",
    "b"
   ]
  },
  {
   "cell_type": "code",
   "execution_count": 473,
   "metadata": {},
   "outputs": [
    {
     "data": {
      "text/plain": [
       "array([[ 2, 15,  7],\n",
       "       [14,  4,  6]])"
      ]
     },
     "execution_count": 473,
     "metadata": {},
     "output_type": "execute_result"
    }
   ],
   "source": [
    "np.add(a,b)"
   ]
  },
  {
   "cell_type": "code",
   "execution_count": 474,
   "metadata": {},
   "outputs": [
    {
     "data": {
      "text/plain": [
       "0.1116018295288086"
      ]
     },
     "execution_count": 474,
     "metadata": {},
     "output_type": "execute_result"
    }
   ],
   "source": [
    "t2=tm.time()\n",
    "t2-t1"
   ]
  },
  {
   "cell_type": "markdown",
   "metadata": {},
   "source": [
    "---\n",
    "### Multiplication through Numpy\n",
    "---"
   ]
  },
  {
   "cell_type": "code",
   "execution_count": 475,
   "metadata": {},
   "outputs": [
    {
     "data": {
      "text/plain": [
       "array([[8, 5, 7, 2, 0],\n",
       "       [0, 5, 2, 6, 7],\n",
       "       [2, 9, 7, 7, 0],\n",
       "       [8, 8, 0, 7, 7]])"
      ]
     },
     "execution_count": 475,
     "metadata": {},
     "output_type": "execute_result"
    }
   ],
   "source": [
    "a=np.array(mat(4,5))\n",
    "a"
   ]
  },
  {
   "cell_type": "code",
   "execution_count": 476,
   "metadata": {},
   "outputs": [
    {
     "data": {
      "text/plain": [
       "array([[9, 7, 8, 9, 5, 8, 3, 4],\n",
       "       [7, 6, 9, 2, 4, 9, 8, 8],\n",
       "       [4, 6, 9, 2, 9, 2, 7, 4],\n",
       "       [8, 2, 6, 9, 2, 5, 2, 5],\n",
       "       [2, 7, 7, 8, 2, 9, 6, 9]])"
      ]
     },
     "execution_count": 476,
     "metadata": {},
     "output_type": "execute_result"
    }
   ],
   "source": [
    "b=np.array(mat(5,8))\n",
    "b"
   ]
  },
  {
   "cell_type": "code",
   "execution_count": 477,
   "metadata": {},
   "outputs": [
    {
     "data": {
      "text/plain": [
       "array([[151, 132, 184, 114, 127, 133, 117, 110],\n",
       "       [105, 103, 148, 124,  64, 142, 108, 141],\n",
       "       [165, 124, 202, 113, 123, 146, 141, 143],\n",
       "       [198, 167, 227, 207, 100, 234, 144, 194]])"
      ]
     },
     "execution_count": 477,
     "metadata": {},
     "output_type": "execute_result"
    }
   ],
   "source": [
    "np.dot(a,b)"
   ]
  },
  {
   "cell_type": "code",
   "execution_count": 478,
   "metadata": {},
   "outputs": [
    {
     "data": {
      "text/plain": [
       "0.10338521003723145"
      ]
     },
     "execution_count": 478,
     "metadata": {},
     "output_type": "execute_result"
    }
   ],
   "source": [
    "t3=tm.time()\n",
    "t3-t2"
   ]
  },
  {
   "cell_type": "markdown",
   "metadata": {},
   "source": [
    "---\n",
    "### Inverse through Numpy\n",
    "---"
   ]
  },
  {
   "cell_type": "code",
   "execution_count": 479,
   "metadata": {},
   "outputs": [
    {
     "data": {
      "text/plain": [
       "[[5, 7, 7, 0, 8, 6],\n",
       " [4, 9, 1, 4, 9, 7],\n",
       " [1, 7, 6, 8, 5, 2],\n",
       " [2, 2, 8, 9, 0, 5],\n",
       " [5, 6, 5, 2, 0, 7],\n",
       " [6, 8, 9, 0, 6, 0]]"
      ]
     },
     "execution_count": 479,
     "metadata": {},
     "output_type": "execute_result"
    }
   ],
   "source": [
    "c=mat(6,6)\n",
    "c"
   ]
  },
  {
   "cell_type": "code",
   "execution_count": 480,
   "metadata": {},
   "outputs": [
    {
     "data": {
      "text/plain": [
       "array([[-0.27809135,  0.27023688, -0.37695795,  0.23549813, -0.09238354,\n",
       "         0.27956477],\n",
       "       [-0.01026862, -0.08429106,  0.22805168, -0.20380823,  0.17351241,\n",
       "        -0.04991499],\n",
       "       [ 0.14738751, -0.15439193,  0.09096679, -0.01509691,  0.01285277,\n",
       "        -0.04073444],\n",
       "       [-0.14702482,  0.12094526, -0.06259776,  0.1282557 , -0.06865012,\n",
       "         0.06678001],\n",
       "       [ 0.07070158,  0.07373909, -0.06356115,  0.05889153, -0.15824549,\n",
       "         0.01475689],\n",
       "       [ 0.14416865, -0.0450527 ,  0.0266916 , -0.01938116,  0.07055423,\n",
       "        -0.14688881]])"
      ]
     },
     "execution_count": 480,
     "metadata": {},
     "output_type": "execute_result"
    }
   ],
   "source": [
    "np.linalg.inv(c)"
   ]
  },
  {
   "cell_type": "code",
   "execution_count": 481,
   "metadata": {},
   "outputs": [
    {
     "data": {
      "text/plain": [
       "0.07819080352783203"
      ]
     },
     "execution_count": 481,
     "metadata": {},
     "output_type": "execute_result"
    }
   ],
   "source": [
    "t4=tm.time()\n",
    "t4-t3"
   ]
  },
  {
   "cell_type": "markdown",
   "metadata": {},
   "source": [
    "---\n",
    "---\n",
    "---\n",
    "---"
   ]
  }
 ],
 "metadata": {
  "interpreter": {
   "hash": "fb24c0498240771cbd4ebc220c43e7b60f0aa56150376e705da82086cf3b9821"
  },
  "kernelspec": {
   "display_name": "Python 3.9.12 ('base')",
   "language": "python",
   "name": "python3"
  },
  "language_info": {
   "codemirror_mode": {
    "name": "ipython",
    "version": 3
   },
   "file_extension": ".py",
   "mimetype": "text/x-python",
   "name": "python",
   "nbconvert_exporter": "python",
   "pygments_lexer": "ipython3",
   "version": "3.9.12"
  },
  "orig_nbformat": 4
 },
 "nbformat": 4,
 "nbformat_minor": 2
}
