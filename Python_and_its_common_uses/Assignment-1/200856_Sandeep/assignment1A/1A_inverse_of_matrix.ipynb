{
 "cells": [
  {
   "cell_type": "code",
   "execution_count": 176,
   "metadata": {},
   "outputs": [],
   "source": [
    "import numpy as np\n",
    "import time"
   ]
  },
  {
   "cell_type": "code",
   "execution_count": 177,
   "metadata": {},
   "outputs": [],
   "source": [
    "def createMatrix(m,n):\n",
    "    mat=[]\n",
    "    for i in range(m):\n",
    "        rowList=[]\n",
    "        for j in range(n):\n",
    "            rowList.append(0)\n",
    "        mat.append(rowList)\n",
    "    return mat"
   ]
  },
  {
   "cell_type": "code",
   "execution_count": 178,
   "metadata": {},
   "outputs": [],
   "source": [
    "def minorMatrix(mat,i,j):\n",
    "    minor_mat=np.concatenate((mat[0:i],mat[i+1:n]),axis=0)\n",
    "    minor_mat=np.concatenate((minor_mat[:,0:j],minor_mat[:,j+1:n]), axis=1)\n",
    "    return minor_mat"
   ]
  },
  {
   "cell_type": "code",
   "execution_count": 179,
   "metadata": {},
   "outputs": [],
   "source": [
    "def determinant(mat):\n",
    "    m=len(mat)\n",
    "    if m==1:\n",
    "        return mat[0]\n",
    "    if m==2:\n",
    "        return (mat[0][0]*mat[1][1]-mat[0][1]*mat[1][0])\n",
    "    det=0\n",
    "    for i in range(m):\n",
    "        sign=(-1)**i\n",
    "        x=determinant(minorMatrix(mat,0,i))\n",
    "        y=x*sign*mat[0][i]\n",
    "        det=det+y\n",
    "    return det"
   ]
  },
  {
   "cell_type": "code",
   "execution_count": 180,
   "metadata": {},
   "outputs": [],
   "source": [
    "def inverseOfMatrix(mat):\n",
    "    det=determinant(mat)\n",
    "    if len(mat)==1:\n",
    "        return 1/det\n",
    "    m=len(mat)\n",
    "    result=createMatrix(m,m)\n",
    "    for i in range(m):\n",
    "        for j in range(m):\n",
    "            minor_mat=np.concatenate((mat[0:i],mat[i+1:n]),axis=0)\n",
    "            minor_mat=np.concatenate((minor_mat[:,0:j],minor_mat[:,j+1:n]), axis=1)\n",
    "            result[j][i]=determinant(minor_mat)/det*((-1)**(i+j))\n",
    "    return result"
   ]
  },
  {
   "cell_type": "code",
   "execution_count": 181,
   "metadata": {},
   "outputs": [],
   "source": [
    "#main function\n",
    "n=int(input(\"Enter dimension of matrix:  \"))\n",
    "\n",
    "entry_limit=10\n",
    "#entry_limit=int(input(\"Enter limit for matrix Entries:  \"))\n",
    "\n",
    "mat1=np.random.randint(entry_limit,size=(n,n))"
   ]
  },
  {
   "cell_type": "code",
   "execution_count": 182,
   "metadata": {},
   "outputs": [
    {
     "name": "stdout",
     "output_type": "stream",
     "text": [
      "Results without numpy\n",
      "[[ 2.87669544 -4.34114262  0.02630497  5.16933827  4.91944102 -6.09330045\n",
      "   0.18207974 -4.75585697  2.52116728]\n",
      " [-3.58630156  5.72569776  0.18646131 -7.03078737 -5.89650947  7.81152238\n",
      "  -0.28598903  5.7235186  -3.07460314]\n",
      " [ 1.41453598 -2.49714228 -0.18076139  3.15120707  2.48164778 -3.32318979\n",
      "   0.01264841 -2.28795105  1.35380654]\n",
      " [-0.70730289  1.02174503 -0.04709614 -1.36096441 -1.187136    1.59776346\n",
      "  -0.03265632  1.18612009 -0.62530923]\n",
      " [ 1.00553707 -1.56581284 -0.07589822  2.05503726  1.37041001 -2.09430085\n",
      "   0.06691793 -1.35360491  0.70263437]\n",
      " [-2.2535421   3.14381655 -0.03723177 -3.79746256 -3.71734562  4.68777579\n",
      "  -0.08937642  3.52767373 -1.9298715 ]\n",
      " [ 2.02363725 -4.14089291 -0.32680362  5.17332434  3.07984552 -4.87595096\n",
      "   0.28006421 -2.87925459  1.49808064]\n",
      " [ 2.94551334 -4.0400546   0.13061753  4.90099187  5.04691777 -6.21770622\n",
      "   0.10901209 -4.86494661  2.77771832]\n",
      " [-2.18870251  4.58672809  0.39472194 -5.59694918 -3.46944916  5.28658617\n",
      "  -0.16430527  3.22306493 -1.79159978]]\n",
      "Time taken in mili sec :  15890.9912109375\n"
     ]
    }
   ],
   "source": [
    "print(\"Results without numpy\")\n",
    "start_time=time.time()\n",
    "if determinant(mat1)==0:\n",
    "    print(\"Inverse does not exist\")\n",
    "else:\n",
    "    res=inverseOfMatrix(mat1)\n",
    "res1=np.array(res)\n",
    "print(res1)\n",
    "time_taken1=time.time()-start_time\n",
    "print(\"Time taken in mili sec : \",time_taken1*1000)\n"
   ]
  },
  {
   "cell_type": "code",
   "execution_count": 183,
   "metadata": {},
   "outputs": [
    {
     "name": "stdout",
     "output_type": "stream",
     "text": [
      "Results with numpy\n",
      "[[ 2.87669544 -4.34114262  0.02630497  5.16933827  4.91944102 -6.09330045\n",
      "   0.18207974 -4.75585697  2.52116728]\n",
      " [-3.58630156  5.72569776  0.18646131 -7.03078737 -5.89650947  7.81152238\n",
      "  -0.28598903  5.7235186  -3.07460314]\n",
      " [ 1.41453598 -2.49714228 -0.18076139  3.15120707  2.48164778 -3.32318979\n",
      "   0.01264841 -2.28795105  1.35380654]\n",
      " [-0.70730289  1.02174503 -0.04709614 -1.36096441 -1.187136    1.59776346\n",
      "  -0.03265632  1.18612009 -0.62530923]\n",
      " [ 1.00553707 -1.56581284 -0.07589822  2.05503726  1.37041001 -2.09430085\n",
      "   0.06691793 -1.35360491  0.70263437]\n",
      " [-2.2535421   3.14381655 -0.03723177 -3.79746256 -3.71734562  4.68777579\n",
      "  -0.08937642  3.52767373 -1.9298715 ]\n",
      " [ 2.02363725 -4.14089291 -0.32680362  5.17332434  3.07984552 -4.87595096\n",
      "   0.28006421 -2.87925459  1.49808064]\n",
      " [ 2.94551334 -4.0400546   0.13061753  4.90099187  5.04691777 -6.21770622\n",
      "   0.10901209 -4.86494661  2.77771832]\n",
      " [-2.18870251  4.58672809  0.39472194 -5.59694918 -3.46944916  5.28658617\n",
      "  -0.16430527  3.22306493 -1.79159978]]\n",
      "Time taken in mili sec :  1433.2263469696045\n"
     ]
    }
   ],
   "source": [
    "print(\"Results with numpy\")\n",
    "start_time=time.time()\n",
    "if determinant(mat1)==0:\n",
    "    print(\"Inverse does not exist\")\n",
    "else:\n",
    "    res2=np.linalg.inv(mat1)\n",
    "print(res2)\n",
    "time_taken2=time.time()-start_time\n",
    "print(\"Time taken in mili sec : \",time_taken2*1000)"
   ]
  },
  {
   "cell_type": "code",
   "execution_count": 184,
   "metadata": {},
   "outputs": [
    {
     "name": "stdout",
     "output_type": "stream",
     "text": [
      "Time taken Without numpy is greater by 11.087565648327084 times xd.\n"
     ]
    }
   ],
   "source": [
    "\n",
    "if time_taken2!=0:\n",
    "    print(\"Time taken Without numpy is greater by {} times xd.\".format(time_taken1/time_taken2))"
   ]
  }
 ],
 "metadata": {
  "kernelspec": {
   "display_name": "Python 3.8.10 64-bit",
   "language": "python",
   "name": "python3"
  },
  "language_info": {
   "codemirror_mode": {
    "name": "ipython",
    "version": 3
   },
   "file_extension": ".py",
   "mimetype": "text/x-python",
   "name": "python",
   "nbconvert_exporter": "python",
   "pygments_lexer": "ipython3",
   "version": "3.8.10"
  },
  "metadata": {
   "interpreter": {
    "hash": "94177165c184f5bb1e1d0e8b23965c088da0bf354be75cbadf3a9f76ef2ba52e"
   }
  },
  "orig_nbformat": 2,
  "vscode": {
   "interpreter": {
    "hash": "916dbcbb3f70747c44a77c7bcd40155683ae19c65e1c03b4aa3499c5328201f1"
   }
  }
 },
 "nbformat": 4,
 "nbformat_minor": 2
}
