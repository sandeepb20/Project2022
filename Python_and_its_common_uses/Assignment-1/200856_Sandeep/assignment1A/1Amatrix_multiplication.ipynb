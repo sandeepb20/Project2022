{
 "cells": [
  {
   "cell_type": "code",
   "execution_count": 15,
   "metadata": {},
   "outputs": [],
   "source": [
    "import numpy as np\n",
    "import time"
   ]
  },
  {
   "cell_type": "code",
   "execution_count": 16,
   "metadata": {},
   "outputs": [],
   "source": [
    "def createMatrix(m,n):\n",
    "    mat=[]\n",
    "    for i in range(m):\n",
    "        rowList=[]\n",
    "        for j in range(n):\n",
    "            rowList.append(0)\n",
    "        mat.append(rowList)\n",
    "    return mat"
   ]
  },
  {
   "cell_type": "code",
   "execution_count": 17,
   "metadata": {},
   "outputs": [],
   "source": [
    "def matrixMultipication(mat1,mat2):\n",
    "    rowIn1=len(mat1)\n",
    "    rowIn2=len(mat2)\n",
    "    colIn1=len(mat1[0])\n",
    "    colIn2=len(mat2[0])\n",
    "    if colIn1!=rowIn2:\n",
    "        print(\"multiplication not applicable\")\n",
    "    else:\n",
    "        result=createMatrix(rowIn1,colIn2)\n",
    "        for i in range(rowIn1):\n",
    "            for j in range(colIn2):\n",
    "                for k in range(colIn1):\n",
    "                    result[i][j]+=mat1[i][k]*mat2[k][j]\n",
    "        return result"
   ]
  },
  {
   "cell_type": "code",
   "execution_count": 18,
   "metadata": {},
   "outputs": [],
   "source": [
    "#main function\n",
    "row_num=int(input(\"Enter no. of rows for pre matrix:  \"))\n",
    "col_num=int(input(\"Enter no. of columns for pre matrix:  \"))\n",
    "col_num2=int(input(\"Enter no. of columns for post matrix:  \"))\n",
    "\n",
    "entry_limit = 10\n",
    "#entry_limit=int(input(\"Enter limit for matrix Entries:  \"))\n",
    "\n",
    "mat1=np.random.randint(entry_limit,size=(row_num,col_num))\n",
    "mat2=np.random.randint(entry_limit,size=(col_num,col_num2))"
   ]
  },
  {
   "cell_type": "code",
   "execution_count": 19,
   "metadata": {},
   "outputs": [
    {
     "name": "stdout",
     "output_type": "stream",
     "text": [
      "Results without numpy\n",
      "Time taken in mili sec :  51955.17063140869\n"
     ]
    }
   ],
   "source": [
    "print(\"Results without numpy\")\n",
    "start_time=time.time()\n",
    "res1=matrixMultipication(mat1,mat2)\n",
    "#print(res1)\n",
    "time_taken1=time.time()-start_time\n",
    "print(\"Time taken in mili sec : \",time_taken1*1000)\n"
   ]
  },
  {
   "cell_type": "code",
   "execution_count": 20,
   "metadata": {},
   "outputs": [
    {
     "name": "stdout",
     "output_type": "stream",
     "text": [
      "Results with numpy\n",
      "Time taken in mili sec :  119.82345581054688\n"
     ]
    }
   ],
   "source": [
    "print(\"Results with numpy\")\n",
    "start_time=time.time()\n",
    "res2=np.matmul(mat1,mat2)\n",
    "#print(res2)\n",
    "time_taken2=time.time()-start_time\n",
    "print(\"Time taken in mili sec : \",time_taken2*1000)"
   ]
  },
  {
   "cell_type": "code",
   "execution_count": 21,
   "metadata": {},
   "outputs": [
    {
     "name": "stdout",
     "output_type": "stream",
     "text": [
      "Both the results are same :)\n",
      "Time taken Without numpy is greater by 433.59766483079176 times xd.\n"
     ]
    }
   ],
   "source": [
    "if (res1 == res2).all():\n",
    "    print(\"Both the results are same :)\")\n",
    "else:\n",
    "    print(\"Something went wrong \\n Both the results are different :(\")\n",
    "if time_taken2!=0:\n",
    "    print(\"Time taken Without numpy is greater by {} times xd.\".format(time_taken1/time_taken2))\n"
   ]
  },
  {
   "cell_type": "code",
   "execution_count": null,
   "metadata": {},
   "outputs": [],
   "source": []
  }
 ],
 "metadata": {
  "kernelspec": {
   "display_name": "Python 3.8.10 64-bit",
   "language": "python",
   "name": "python3"
  },
  "language_info": {
   "codemirror_mode": {
    "name": "ipython",
    "version": 3
   },
   "file_extension": ".py",
   "mimetype": "text/x-python",
   "name": "python",
   "nbconvert_exporter": "python",
   "pygments_lexer": "ipython3",
   "version": "3.8.10"
  },
  "metadata": {
   "interpreter": {
    "hash": "94177165c184f5bb1e1d0e8b23965c088da0bf354be75cbadf3a9f76ef2ba52e"
   }
  },
  "orig_nbformat": 2,
  "vscode": {
   "interpreter": {
    "hash": "916dbcbb3f70747c44a77c7bcd40155683ae19c65e1c03b4aa3499c5328201f1"
   }
  }
 },
 "nbformat": 4,
 "nbformat_minor": 2
}
