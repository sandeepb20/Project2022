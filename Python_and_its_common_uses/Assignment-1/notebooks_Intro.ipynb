{
  "metadata": {
    "kernelspec": {
      "display_name": "Pyolite",
      "language": "python",
      "name": "python"
    },
    "language_info": {
      "codemirror_mode": {
        "name": "python",
        "version": 3
      },
      "file_extension": ".py",
      "mimetype": "text/x-python",
      "name": "python",
      "nbconvert_exporter": "python",
      "pygments_lexer": "ipython3",
      "version": "3.8"
    }
  },
  "nbformat_minor": 5,
  "nbformat": 4,
  "cells": [
    {
      "cell_type": "markdown",
      "source": "# Introduction to the JupyterLab and Jupyter Notebooks\n\nThis is a short introduction to two of the flagship tools created by [the Jupyter Community](https://jupyter.org).\n\n> **⚠️Experimental!⚠️**: This is an experimental interface provided by the [JupyterLite project](https://jupyterlite.readthedocs.io/en/latest/). It embeds an entire JupyterLab interface, with many popular packages for scientific computing, in your browser. There may be minor differences in behavior between JupyterLite and the JupyterLab you install locally. You may also encounter some bugs or unexpected behavior. To report any issues, or to get involved with the JupyterLite project, see [the JupyterLite repository](https://github.com/jupyterlite/jupyterlite/issues?q=is%3Aissue+is%3Aopen+sort%3Aupdated-desc).\n\n## JupyterLab 🧪\n\n**JupyterLab** is a next-generation web-based user interface for Project Jupyter. It enables you to work with documents and activities such as Jupyter notebooks, text editors, terminals, and custom components in a flexible, integrated, and extensible manner. It is the interface that you're looking at right now.\n\n**For an overview of the JupyterLab interface**, see the **JupyterLab Welcome Tour** on this page, by going to `Help -> Welcome Tour` and following the prompts.\n\n> **See Also**: For a more in-depth tour of JupyterLab with a full environment that runs in the cloud, see [the JupyterLab introduction on Binder](https://mybinder.org/v2/gh/jupyterlab/jupyterlab-demo/HEAD?urlpath=lab/tree/demo).\n\n## Jupyter Notebooks 📓\n\n**Jupyter Notebooks** are a community standard for communicating and performing interactive computing. They are a document that blends computations, outputs, explanatory text, mathematics, images, and rich media representations of objects.\n\nJupyterLab is one interface used to create and interact with Jupyter Notebooks.\n\n**For an overview of Jupyter Notebooks**, see the **JupyterLab Welcome Tour** on this page, by going to `Help -> Notebook Tour` and following the prompts.\n\n> **See Also**: For a more in-depth tour of Jupyter Notebooks and the Classic Jupyter Notebook interface, see [the Jupyter Notebook IPython tutorial on Binder](https://mybinder.org/v2/gh/ipython/ipython-in-depth/HEAD?urlpath=tree/binder/Index.ipynb).\n\n## An example: visualizing data in the notebook ✨\n\nBelow is an example of a code cell. We'll visualize some simple data using two popular packages in Python. We'll use [NumPy](https://numpy.org/) to create some random data, and [Matplotlib](https://matplotlib.org) to visualize it.\n\nNote how the code and the results of running the code are bundled together.",
      "metadata": {},
      "id": "a35eeb9f-df70-4ab1-a243-2d2025888eb0"
    },
    {
      "cell_type": "code",
      "source": "from matplotlib import pyplot as plt\nimport numpy as np\nimport time\n\ndef greet(M=[n+1][n+1]):\n    \n   for i in range(n):\n       for j in range(n):\n           N[i][j]=0\n           print(N[i][j])\n   \n   \ndef det(M):\n   \n   for i in range(M)-1:\n       for j in range(M)-1:\n           if i<k:\n               N[i][j]=M[i][j+1]\n           if i>=k:\n               N[i][j]=M[i][j+1]\n   return N;\n\n   for i in range(M[0]):\n       if i%2==0:\n           determ=determ+M[0][i]*det(new(M,range(M)-1,i)\n       if i%2!=0:\n           determ=determ-M[0][i]*det(new(M,range(M)-1,i)\n   \n   return determ \n                                     \n     if range(M)==1:\n       return determ\n                                     \n                                     \n\n\n#mat addition\n\nstart=time.process_time()\nA = [[11, 14, 7],[4, 6, 6],[7, 4, 2]]\n \n\nB = [[7, 11, 8],[6, 4, 3],[1, 3, 4]]\n    \nans=[[0,0,0],[0,0,0],[0,0,0]]    \n \n\nfor i in range(len(A[0])):\n \n   \n    for j in range(len(B[0])):\n        ans[i][j]=A[i][j]+B[i][j]\n        \nend1 = time.process_time()\nprint(end1 - start)\n \nfor k in ans:\n    print(k)\n\n# mat multiplication\n\nA = [[11, 14, 7],[4, 6, 6],[7, 4, 2]]\n \n\nB = [[7, 11, 8, 2],[6, 4, 3, 3],[1, 3, 4, 7,]]\n    \nans=[[0,0,0,0],[0,0,0,0],[0,0,0,0,]]    \n \n\nfor i in range(len(A)):\n \n    \n    for j in range(len(B[0])):\n \n        \n        for k in range(len(B)):\n            ans[i][j] += A[i][k] * B[k][j]\n            \nend2 = time.process_time()\nprint(end2 - start)\n            \n\nfor k in ans:\n    print(k)\n    \n    \n#graph plotting 1\n\nstudent_x=[1,2,3,4,5,6,7,8,9]\nmth_y=[16,18,22,50,33,11,9,23,39]\nphy_y=[24,48,60,55,34,17,22,6,15]\n\nplt.plot(student_x,mth_y)\nplt.plot(student_x,phy_y)\n\nplt.xlabel('students')\nplt.ylabel('marks')\n\nplt.title('assignment 1.1')\n\nplt.show()\n\n#graph plotting 2\n\nx=np.linspace(0,200,200)\n\ny1=np.sin(2*x)+1\ny2=np.square(x)+2*x+1\n\nplt.plot(x,y1)\nplt.plot(x,y2)\n\nplt.xlabel('x axis')\nplt.ylabel('y axis')\n\nplt.title('assignment 1.2')\n\nplt.show()\n    \n#inverse calculation\n\nM=[[1,2,3],[4,5,6],[7,8,9]\n   \ndet(M)\n\n   \n  \n     \n   \n   \n    \n    \n\n\n\n\n\n\n\n\n\n\n\n \n    \n\n",
      "metadata": {
        "trusted": true
      },
      "execution_count": 7,
      "outputs": [
        {
          "ename": "<class 'SyntaxError'>",
          "evalue": "invalid syntax (<ipython-input-7-c3da5d5665d1>, line 14)",
          "traceback": [
            "\u001b[0;36m  Input \u001b[0;32mIn [7]\u001b[0;36m\u001b[0m\n\u001b[0;31m    int determ\u001b[0m\n\u001b[0m        ^\u001b[0m\n\u001b[0;31mSyntaxError\u001b[0m\u001b[0;31m:\u001b[0m invalid syntax\n"
          ],
          "output_type": "error"
        }
      ],
      "id": "fe55883a-6887-43dd-9498-5333a51799e2"
    },
    {
      "cell_type": "markdown",
      "source": "## Next steps 🏃\n\nThis is just a short introduction to JupyterLab and Jupyter Notebooks. See below for some more ways to interact with tools in the Jupyter ecosystem, and its community.\n\n### Other notebooks in this demo\n\nHere are some other notebooks in this demo. Each of the items below corresponds to a file or folder in the **file browser to the left**.\n\n- [**`Lorenz.ipynb`**](Lorenz.ipynb) uses Python to demonstrate interactive visualizations and computations around the [Lorenz system](https://en.wikipedia.org/wiki/Lorenz_system). It shows off basic Python functionality, including more visualizations, data structures, and scientific computing libraries.\n- [**`sqlite.ipynb`**](sqlite.ipynb) demonstrates how an in-browser sqlite kernel to run your own SQL commands from the notebook. It uses the [jupyterlite/xeus-sqlite-kernel](https://github.com/jupyterlite/xeus-sqlite-kernel).\n\n### Other sources of information in Jupyter\n\n- **More on using JupyterLab**: See [the JupyterLab documentation](https://jupyterlab.readthedocs.io/en/stable/) for more thorough information about how to install and use JupyterLab.\n- **More interactive demos**: See [try.jupyter.org](https://try.jupyter.org) for more interactive demos with the Jupyter ecosystem.\n- **Learn more about Jupyter**: See [the Jupyter community documentation](https://docs.jupyter.org) to learn more about the project, its community and tools, and how to get involved.\n- **Join our discussions**: The [Jupyter Community Forum](https://discourse.jupyter.org) is a place where many in the Jupyter community ask questions, help one another, and discuss issues around interactive computing and our ecosystem.",
      "metadata": {},
      "id": "b9670d85-ef29-4dfd-b4b5-e76d279c1f1a"
    }
  ]
}